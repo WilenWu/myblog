{
 "cells": [
  {
   "cell_type": "code",
   "execution_count": 1,
   "id": "a098f957-179f-4267-b15b-54d83a2106b2",
   "metadata": {},
   "outputs": [
    {
     "data": {
      "image/png": "[encoded data removed]",
      "text/plain": [
       "<Figure size 432x288 with 1 Axes>"
      ]
     },
     "metadata": {},
     "output_type": "display_data"
    }
   ],
   "source": [
    "import numpy as np\n",
    "import matplotlib.pyplot as plt\n",
    "\n",
    "\n",
    "# 计算x,y坐标对应的高度值\n",
    "def fun(x, y):\n",
    "    return (1-x/2+x**2+y**3) * np.exp(-x**2-y**2)\n",
    "\n",
    "\n",
    "# 设置个背景色\n",
    "plt.figure(facecolor='#66ff33')\n",
    "n = 256\n",
    "x = np.linspace(-3, 3, n)\n",
    "y = np.linspace(-3, 3, n)\n",
    "# 把x,y数据转换为二维数据（网格化）\n",
    "X, Y = np.meshgrid(x, y)\n",
    "# 填充等高线\n",
    "plt.contourf(X, Y, fun(X, Y))\n",
    "\n",
    "# 显示图表\n",
    "plt.show()\n"
   ]
  },
  {
   "cell_type": "code",
   "execution_count": null,
   "id": "6a7f28cd-9fb4-4adb-8f18-cbe46b887f12",
   "metadata": {},
   "outputs": [],
   "source": []
  }
 ],
 "metadata": {
  "kernelspec": {
   "display_name": "Python 3 (ipykernel)",
   "language": "python",
   "name": "python3"
  },
  "language_info": {
   "codemirror_mode": {
    "name": "ipython",
    "version": 3
   },
   "file_extension": ".py",
   "mimetype": "text/x-python",
   "name": "python",
   "nbconvert_exporter": "python",
   "pygments_lexer": "ipython3",
   "version": "3.8.10"
  }
 },
 "nbformat": 4,
 "nbformat_minor": 5
}
